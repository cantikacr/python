{
  "nbformat": 4,
  "nbformat_minor": 0,
  "metadata": {
    "colab": {
      "name": "tugasmgg12",
      "provenance": [],
      "collapsed_sections": [],
      "include_colab_link": true
    },
    "kernelspec": {
      "name": "python3",
      "display_name": "Python 3"
    }
  },
  "cells": [
    {
      "cell_type": "markdown",
      "metadata": {
        "id": "view-in-github",
        "colab_type": "text"
      },
      "source": [
        "<a href=\"https://colab.research.google.com/github/cantikacr/python/blob/main/tugasmgg12.ipynb\" target=\"_parent\"><img src=\"https://colab.research.google.com/assets/colab-badge.svg\" alt=\"Open In Colab\"/></a>"
      ]
    },
    {
      "cell_type": "code",
      "metadata": {
        "id": "sNq0tE5kgoqC"
      },
      "source": [
        "# Import numpy library to be able to process numeric\r\n",
        "import numpy as np"
      ],
      "execution_count": 14,
      "outputs": []
    },
    {
      "cell_type": "code",
      "metadata": {
        "id": "j6bYrQntoO9G"
      },
      "source": [
        "# conversion from number to logaritmic\r\n",
        "NtL = lambda n: 10*np.log10(n)"
      ],
      "execution_count": 15,
      "outputs": []
    },
    {
      "cell_type": "code",
      "metadata": {
        "id": "EpEKQwRotqS_"
      },
      "source": [
        "# conversion from logaritmic to number\r\n",
        "LtN = lambda n: 10**(n/10)"
      ],
      "execution_count": 16,
      "outputs": []
    },
    {
      "cell_type": "code",
      "metadata": {
        "id": "83iKfJjB0Pni"
      },
      "source": [
        "# function to determine c1 and c2 value based on frequency range\r\n",
        "\r\n",
        "def c (fc):\r\n",
        "  if (fc >= 400 and fc <= 1500):\r\n",
        "    c1 = 69.55\r\n",
        "    c2 = 26.16\r\n",
        "    return c1,c2\r\n",
        "  elif (fc >1500 and fc <= 2000):\r\n",
        "    c1 = 46.3\r\n",
        "    c2 = 33.9\r\n",
        "    return c1,c2\r\n",
        "  else:\r\n",
        "    c1 = print(\"The given frequency does not meet the C1 criteria.\")\r\n",
        "    c2 = print(\"The given frequency does not meet the C2 criteria.\")\r\n",
        "    return c1,c2\r\n"
      ],
      "execution_count": 17,
      "outputs": []
    },
    {
      "cell_type": "code",
      "metadata": {
        "colab": {
          "base_uri": "https://localhost:8080/"
        },
        "id": "SGLoBQ8u4SwQ",
        "outputId": "0a4dc9c3-d107-4459-bc93-a5bc540fbb90"
      },
      "source": [
        "# Testing C1 and C2 parameter function\r\n",
        "\r\n",
        "c1,c2 = c(1000)\r\n",
        "\r\n",
        "# Print out the value of C1 \r\n",
        "print(\"c1 value is: \",c1)\r\n",
        "\r\n",
        "# Print out the value of C2 \r\n",
        "print(\"c2 value is: \",c2)"
      ],
      "execution_count": 18,
      "outputs": [
        {
          "output_type": "stream",
          "text": [
            "c1 value is:  69.55\n",
            "c2 value is:  26.16\n"
          ],
          "name": "stdout"
        }
      ]
    },
    {
      "cell_type": "code",
      "metadata": {
        "colab": {
          "base_uri": "https://localhost:8080/"
        },
        "id": "BHhRVTgW4yh4",
        "outputId": "348ee460-9ac2-4891-8a25-26913d55d8e4"
      },
      "source": [
        "# Testing C1 and C2 parameter model\r\n",
        "\r\n",
        "c1,c2 = c(1700)\r\n",
        "\r\n",
        "# Print out the value of C1 \r\n",
        "print(\"c1 value is: \",c1)\r\n",
        "\r\n",
        "# Print out the value of C2 \r\n",
        "print(\"c2 value is: \",c2)"
      ],
      "execution_count": 19,
      "outputs": [
        {
          "output_type": "stream",
          "text": [
            "c1 value is:  46.3\n",
            "c2 value is:  33.9\n"
          ],
          "name": "stdout"
        }
      ]
    },
    {
      "cell_type": "code",
      "metadata": {
        "colab": {
          "base_uri": "https://localhost:8080/"
        },
        "id": "oMuMNY3y42-5",
        "outputId": "4d58db63-8959-4a8c-df82-1acd907711d4"
      },
      "source": [
        "# Testing C1 and C2 parameter function\r\n",
        "\r\n",
        "c1,c2 = c(2100)\r\n",
        "\r\n",
        "# Print out the value of C1 \r\n",
        "print(\"c1 value is: \",c1)\r\n",
        "\r\n",
        "# Print out the value of C2 \r\n",
        "print(\"c2 value is: \",c2)"
      ],
      "execution_count": 20,
      "outputs": [
        {
          "output_type": "stream",
          "text": [
            "The given frequency does not meet the C1 criteria.\n",
            "The given frequency does not meet the C2 criteria.\n",
            "c1 value is:  None\n",
            "c2 value is:  None\n"
          ],
          "name": "stdout"
        }
      ]
    },
    {
      "cell_type": "code",
      "metadata": {
        "id": "wICFtgIP46Db"
      },
      "source": [
        "# calculating a(hr)\r\n",
        "def a(fc,hr):\r\n",
        "  valueA = (1.1*np.log10(fc)-0.7)*hr - (1.56*np.log(fc) - 0.8)\r\n",
        "  return valueA"
      ],
      "execution_count": 21,
      "outputs": []
    },
    {
      "cell_type": "code",
      "metadata": {
        "colab": {
          "base_uri": "https://localhost:8080/"
        },
        "id": "R_PHsMsU8Tzy",
        "outputId": "a286f275-cea2-4426-8951-62179b5b739b"
      },
      "source": [
        "# Testing function above by the given input of Value a\r\n",
        "\r\n",
        "ahr= a(150,20)\r\n",
        "\r\n",
        "print(\"The value of A= \",ahr)"
      ],
      "execution_count": 22,
      "outputs": [
        {
          "output_type": "stream",
          "text": [
            "The value of A=  26.85741664043483\n"
          ],
          "name": "stdout"
        }
      ]
    },
    {
      "cell_type": "code",
      "metadata": {
        "id": "bCuvANaC9NWs"
      },
      "source": [
        "# function to determine Cm value\r\n",
        "def tipearea(area,fc):\r\n",
        "  if area == 'urban':\r\n",
        "    cm=0\r\n",
        "    return cm\r\n",
        "  elif area == 'suburban':\r\n",
        "    cm=-2(np.log10(fc/28))**2-5.4\r\n",
        "    return cm\r\n",
        "  elif area == 'open':\r\n",
        "    cm=-4.78*(np.log10(fc))**2+18.33*np.log10(fc)-40.94\r\n",
        "    return cm \r\n",
        "  else:\r\n",
        "    cm= print('the given area is not suitable for this parameter')\r\n",
        "    return cm"
      ],
      "execution_count": 23,
      "outputs": []
    },
    {
      "cell_type": "code",
      "metadata": {
        "colab": {
          "base_uri": "https://localhost:8080/"
        },
        "id": "5jKXz1s-x21A",
        "outputId": "7586a383-978d-4ebd-b2a6-dd8d562fb75f"
      },
      "source": [
        "# testing Cm function\r\n",
        "\r\n",
        "areatype = tipearea('open',1000)\r\n",
        "print(\"The cm value based on the given area type is=\", areatype)"
      ],
      "execution_count": 24,
      "outputs": [
        {
          "output_type": "stream",
          "text": [
            "The cm value based on the given area type is= -28.970000000000006\n"
          ],
          "name": "stdout"
        }
      ]
    },
    {
      "cell_type": "code",
      "metadata": {
        "id": "oEUYVYpdy2h4"
      },
      "source": [
        "#main\r\n",
        "def pathloss(fc,ht,hr,d,area):\r\n",
        "\r\n",
        " \r\n",
        "  if (fc >= 400 and fc <= 1500):\r\n",
        "    c1 = 69.55\r\n",
        "    c2 = 26.16\r\n",
        "    return c1,c2\r\n",
        "  elif (fc >1500 and fc <= 2000):\r\n",
        "    c1 = 46.3\r\n",
        "    c2 = 33.9\r\n",
        "    return c1,c2\r\n",
        "  else:\r\n",
        "    c1 = print(\"The given frequency does not meet the C1 criteria.\")\r\n",
        "    c2 = print(\"The given frequency does not meet the C2 criteria.\")\r\n",
        "    return c1,c2\r\n",
        "\r\n",
        " \r\n",
        "  valueA = (1.1*np.log10(fc)-0.7)*hr - (1.56*np.log(fc) - 0.8)\r\n",
        "  return valueA\r\n",
        "\r\n",
        "  \r\n",
        "  if area == 'urban':\r\n",
        "    cm=0\r\n",
        "    return cm\r\n",
        "  elif area == 'suburban':\r\n",
        "    cm=-2(np.log10(fc/28))**2-5.4\r\n",
        "    return cm\r\n",
        "  elif area == 'open':\r\n",
        "    cm=-4.78*(np.log10(fc))**2+18.33*np.log10(fc)-40.94\r\n",
        "    return cm \r\n",
        "  else:\r\n",
        "    cm= print('the given area is not suitable for this parameter')\r\n",
        "    return cm\r\n",
        "  \r\n",
        "\r\n",
        "  Lp = c1+(c2*np.log10(fc))-(13.83*np.log10(ht))-a*(hr)+(44.9-6.55*np.log10(ht)*np.log10(d)+cm)\r\n",
        "\r\n",
        "\r\n",
        "  Lpdb= NtL(Lp)\r\n",
        "  return Lp,Lpdb"
      ],
      "execution_count": 25,
      "outputs": []
    },
    {
      "cell_type": "code",
      "metadata": {
        "colab": {
          "base_uri": "https://localhost:8080/"
        },
        "id": "HFkh0Ub11wa1",
        "outputId": "f8aadffd-2401-4113-9c13-3c88a42d7028"
      },
      "source": [
        "# Calculating the Path Loss Model\r\n",
        "\r\n",
        "# fc is frequency in range of 150 MHz to 2000 MHz\r\n",
        "# ht is the height of antenna transmitter in range of 30 to 200 m\r\n",
        "# hr is the height of antenna receiver in range of 1 to 20 m\r\n",
        "# d is the distance between the transmitter and receiver in km\r\n",
        "# value a(hr)\r\n",
        "\r\n",
        "PathLoss,pathlossdB = pathloss (1700,80,12,1,'urban')\r\n",
        "print(\"The Path Loss is \",PathLoss,\"Watt\")\r\n",
        "print(\"The Path Loss in dB is \",pathlossdB,\"dB\")"
      ],
      "execution_count": 26,
      "outputs": [
        {
          "output_type": "stream",
          "text": [
            "The Path Loss is  46.3 Watt\n",
            "The Path Loss in dB is  33.9 dB\n"
          ],
          "name": "stdout"
        }
      ]
    }
  ]
}